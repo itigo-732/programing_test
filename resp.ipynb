{
 "cells": [
  {
   "cell_type": "code",
   "execution_count": 30,
   "metadata": {},
   "outputs": [],
   "source": [
    "import datetime\n",
    "path = \"./response.log\""
   ]
  },
  {
   "cell_type": "code",
   "execution_count": 31,
   "metadata": {},
   "outputs": [],
   "source": [
    "with open(path) as f:\n",
    "    l_strip = [s.strip() for s in f.readlines()]\n",
    "\n",
    "stop = {}\n",
    "for index, log in enumerate(l_strip):\n",
    "    log_split = log.split(\",\")\n",
    "    if log_split[2] == \"-\":\n",
    "        date = datetime.datetime.strptime(log_split[0], \"%Y%m%d%H%M%S\")\n",
    "        stop.setdefault(log_split[1], date)\n",
    "\n",
    "for log in l_strip:\n",
    "    log_split = log.split(\",\")\n",
    "    date = datetime.datetime.strptime(log_split[0], \"%Y%m%d%H%M%S\")\n",
    "    if stop.get(log_split[0]):\n",
    "        if date - stop[log_split[0]] == 0:\n",
    "            continue\n",
    "        else:\n",
    "            print(date - stop[log_split[0]])\n",
    "\n"
   ]
  },
  {
   "cell_type": "markdown",
   "metadata": {},
   "source": []
  },
  {
   "cell_type": "code",
   "execution_count": 32,
   "metadata": {},
   "outputs": [
    {
     "name": "stdout",
     "output_type": "stream",
     "text": [
      "0:00:11\n"
     ]
    }
   ],
   "source": [
    "print(datetime.datetime.strptime(l_strip[10].split(\",\")[0], \"%Y%m%d%H%M%S\") - datetime.datetime.strptime(l_strip[8].split(\",\")[0], \"%Y%m%d%H%M%S\"))\n"
   ]
  },
  {
   "cell_type": "markdown",
   "metadata": {},
   "source": []
  }
 ],
 "metadata": {
  "kernelspec": {
   "display_name": "Python 3 (ipykernel)",
   "language": "python",
   "name": "python3"
  },
  "language_info": {
   "codemirror_mode": {
    "name": "ipython",
    "version": 3
   },
   "file_extension": ".py",
   "mimetype": "text/x-python",
   "name": "python",
   "nbconvert_exporter": "python",
   "pygments_lexer": "ipython3",
   "version": "3.10.5"
  }
 },
 "nbformat": 4,
 "nbformat_minor": 1
}
